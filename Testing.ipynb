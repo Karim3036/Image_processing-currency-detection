{
 "cells": [
  {
   "cell_type": "code",
   "execution_count": 3,
   "metadata": {},
   "outputs": [],
   "source": [
    "import pickle\n",
    "from commonfunctions import *\n",
    "import cv2"
   ]
  },
  {
   "cell_type": "code",
   "execution_count": 14,
   "metadata": {},
   "outputs": [
    {
     "name": "stdout",
     "output_type": "stream",
     "text": [
      "(1, 256)\n"
     ]
    }
   ],
   "source": [
    "img=io.imread(\"new_ten.jpeg\")\n",
    "hsv_image = cv2.cvtColor(img, cv2.COLOR_BGR2HSV)\n",
    "hist_hs=cv2.calcHist([hsv_image[:,:,:1]],[0], None, [256], [0,256])\n",
    "hist_hs /= hist_hs.sum()\n",
    "img=hist_hs.flatten()\n",
    "img=img.reshape(1,-1)\n",
    "print(img.shape)"
   ]
  },
  {
   "cell_type": "code",
   "execution_count": 15,
   "metadata": {},
   "outputs": [],
   "source": [
    "#get pre trained model \n",
    "with open(\"model.p\", \"rb\") as model_file:\n",
    "    trained_model = pickle.load(model_file)"
   ]
  },
  {
   "cell_type": "code",
   "execution_count": 16,
   "metadata": {},
   "outputs": [
    {
     "name": "stdout",
     "output_type": "stream",
     "text": [
      "[0]\n"
     ]
    }
   ],
   "source": [
    "#make predictions\n",
    "predictions = trained_model.predict(img)\n",
    "print(predictions)"
   ]
  }
 ],
 "metadata": {
  "kernelspec": {
   "display_name": "Python 3",
   "language": "python",
   "name": "python3"
  },
  "language_info": {
   "codemirror_mode": {
    "name": "ipython",
    "version": 3
   },
   "file_extension": ".py",
   "mimetype": "text/x-python",
   "name": "python",
   "nbconvert_exporter": "python",
   "pygments_lexer": "ipython3",
   "version": "3.7.2"
  }
 },
 "nbformat": 4,
 "nbformat_minor": 2
}
