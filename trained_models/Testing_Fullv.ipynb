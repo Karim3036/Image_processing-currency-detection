{
 "cells": [
  {
   "cell_type": "code",
   "execution_count": 1,
   "metadata": {},
   "outputs": [],
   "source": [
    "import pickle\n",
    "from commonfunctions import *\n",
    "import cv2"
   ]
  },
  {
   "cell_type": "code",
   "execution_count": 2,
   "metadata": {},
   "outputs": [],
   "source": [
    "def HoG(image):\n",
    "    # Resize the image to 130x276\n",
    "    resized_img = cv2.resize(image, (64, 128))\n",
    "    # print(resized_img.shape)\n",
    "\n",
    "    # Convert the original image to gray scale\n",
    "    resized_img_gray = cv2.cvtColor(resized_img, cv2.COLOR_BGR2GRAY)\n",
    "\n",
    "    # Specify the parameters for our HOG descriptor\n",
    "    win_size = (64, 128)  # You need to set a proper window size\n",
    "    block_size = (16, 16)\n",
    "    block_stride = (8, 8)\n",
    "    cell_size = (8, 8)\n",
    "    num_bins = 9\n",
    "\n",
    "    # Set the parameters of the HOG descriptor using the variables defined above\n",
    "    hog = cv2.HOGDescriptor(win_size, block_size, block_stride, cell_size, num_bins)\n",
    "\n",
    "    # Compute the HOG Descriptor for the gray scale image\n",
    "    hog_descriptor = hog.compute(resized_img_gray)\n",
    "    return hog_descriptor"
   ]
  },
  {
   "cell_type": "code",
   "execution_count": 3,
   "metadata": {},
   "outputs": [],
   "source": [
    "img=io.imread(\"50SARtest.jpg\")\n",
    "feat=HoG(img)\n",
    "feat2=feat.reshape(1,-1)"
   ]
  },
  {
   "cell_type": "code",
   "execution_count": 4,
   "metadata": {},
   "outputs": [],
   "source": [
    "#get pre trained model \n",
    "with open(\"model_Fullv.p\", \"rb\") as model_file:\n",
    "    trained_model = pickle.load(model_file)"
   ]
  },
  {
   "cell_type": "code",
   "execution_count": 5,
   "metadata": {},
   "outputs": [
    {
     "name": "stdout",
     "output_type": "stream",
     "text": [
      "50SAR\n"
     ]
    }
   ],
   "source": [
    "classes=['1EGP','1SAR', '5EGP','5SAR','10EGP','10SAR','20EGP','50EGP','50SAR','100EGP','100SAR','200EGP','500SAR']\n",
    "#make predictions\n",
    "predictions = trained_model.predict(feat2)\n",
    "#convert predictions variable to int\n",
    "predictions = int(predictions)\n",
    "#type(predictions)\n",
    "print(classes[predictions])"
   ]
  }
 ],
 "metadata": {
  "kernelspec": {
   "display_name": "Python 3",
   "language": "python",
   "name": "python3"
  },
  "language_info": {
   "codemirror_mode": {
    "name": "ipython",
    "version": 3
   },
   "file_extension": ".py",
   "mimetype": "text/x-python",
   "name": "python",
   "nbconvert_exporter": "python",
   "pygments_lexer": "ipython3",
   "version": "3.7.2"
  }
 },
 "nbformat": 4,
 "nbformat_minor": 2
}
